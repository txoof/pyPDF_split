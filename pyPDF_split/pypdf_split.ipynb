{
 "cells": [
  {
   "cell_type": "code",
   "execution_count": null,
   "metadata": {},
   "outputs": [],
   "source": [
    "import PyPDF2\n",
    "import PySimpleGUI as sg\n",
    "from pathlib import Path\n",
    "import logging\n",
    "import re\n",
    "import sys, getopt\n",
    "\n",
    "import constants\n"
   ]
  },
  {
   "cell_type": "code",
   "execution_count": null,
   "metadata": {},
   "outputs": [],
   "source": [
    "!jupyter-nbconvert --to python --template python_clean pypdf_split.ipynb"
   ]
  },
  {
   "cell_type": "markdown",
   "metadata": {},
   "source": [
    "# TO DO\n",
    "* [x] wrap **everything** in a `try`\n",
    "* [x] add gui\n",
    "* [ ] test against MAP results\n",
    "* [x] add original filename to output\n",
    "* [x] pyinstaller"
   ]
  },
  {
   "cell_type": "code",
   "execution_count": null,
   "metadata": {},
   "outputs": [],
   "source": [
    "def get_breaks(file):\n",
    "    file = Path(file).expanduser().absolute()\n",
    "    \n",
    "    try:\n",
    "        source_pdf = PyPDF2.PdfFileReader(str(file), False)\n",
    "    except (FileNotFoundError, PyPDF2.utils.PdfReadError, IsADirectoryError) as e:\n",
    "        logging.error(f'Failed to read source pdf: {e}')\n",
    "        return []\n",
    "    \n",
    "    page_breaks = []\n",
    "    \n",
    "    last_record = {'id': None, 'pages': []}\n",
    "    \n",
    "    for page in range(0, source_pdf.numPages):\n",
    "        this_record = ({'id': None, 'pages': []})\n",
    "        text = source_pdf.getPage(page).extractText()\n",
    "        student_number = re.search('student(?:\\W+)?id:(?:\\W+)?(\\d{6,})', text, re.IGNORECASE)\n",
    "        \n",
    "        if student_number:\n",
    "            page_breaks.append(last_record)\n",
    "            this_record['id'] = student_number.group(1)\n",
    "            this_record['pages'].append(page)\n",
    "            last_record = this_record\n",
    "            \n",
    "        else:\n",
    "            last_record['pages'].append(page)\n",
    "            \n",
    "    return page_breaks\n",
    "            \n",
    "        "
   ]
  },
  {
   "cell_type": "code",
   "execution_count": null,
   "metadata": {},
   "outputs": [],
   "source": [
    "def split_pdf(file, page_breaks):\n",
    "    file = Path(file).expanduser().absolute()\n",
    "    dest_path = file.parent/f'{file.name}_split'\n",
    "    \n",
    "    output = {}\n",
    "    \n",
    "    try:\n",
    "        source_pdf = PyPDF2.PdfFileReader(str(file))\n",
    "    except (FileNotFoundError, PyPDF2.utils.PdfReadError, IsADirectoryError) as e:\n",
    "        logging.error(f'Failed to split source pdf: {e}')\n",
    "        return False\n",
    "    \n",
    "    for record in page_breaks:\n",
    "        output_path = 'Failed'\n",
    "        if not record['id']:\n",
    "            continue\n",
    "        pdf_writer = PyPDF2.PdfFileWriter()\n",
    "        for page in record['pages']:\n",
    "            try:\n",
    "                pdf_writer.addPage(source_pdf.getPage(page))\n",
    "            except Exception as e:\n",
    "                logging.error(f'failed to add page: \"{page}\" for record: \"{record}\" error: {e}')\n",
    "                \n",
    "            \n",
    "        \n",
    "        try:\n",
    "            output_path = dest_path/f'{record[\"id\"]} - {file.name}.pdf'\n",
    "            output_path.parent.mkdir(exist_ok=True)\n",
    "            with open(str(output_path), \"wb\") as dest_file:\n",
    "                pdf_writer.write(dest_file)\n",
    "\n",
    "        except Exception as e:\n",
    "            logging.error(f'error outputing pdf: {e}')\n",
    "            output_path = f'Failed outputing pdf: {e}'\n",
    "            pass\n",
    "        finally:\n",
    "            output[record['id']] = output_path\n",
    "    return output\n",
    "\n"
   ]
  },
  {
   "cell_type": "code",
   "execution_count": null,
   "metadata": {},
   "outputs": [],
   "source": [
    "def main():\n",
    "    logger = logging.getLogger()\n",
    "    logger.setLevel(logging.DEBUG)\n",
    "    interactive = False\n",
    "    \n",
    "    if (len(sys.argv) == 1) or ('-f' in sys.argv):\n",
    "        interactive = True\n",
    "     \n",
    "    else:\n",
    "        fname = sys.argv[1]\n",
    "\n",
    "    while interactive:\n",
    "        logging.debug('prompt user for PDF file')\n",
    "        fname = sg.popup_get_file(f'v{constants.version}: Choose a PDF to split')\n",
    "        logging.debug(f'fname returned: {fname}')\n",
    "        if fname in [None, ]:\n",
    "            logging.info('user canceled')\n",
    "            break\n",
    "        if fname:\n",
    "            breaks = get_breaks(fname)\n",
    "            output = split_pdf(fname, breaks)\n",
    "            \n",
    "        if output:\n",
    "            ## add a popup that summarizes what was done\n",
    "            strings = f'{len(output)} records extracted -- see below for full output\\n'\n",
    "            strings = strings + 'split records are placed in the same directory as the original PDF\\n\\n\\n'\n",
    "            strings = strings + str(output)\n",
    "            sg.popup_scrolled(strings, \n",
    "                              title='Processed files',\n",
    "                              keep_on_top=True,\n",
    "                              size=(80, 50))\n",
    "        else:\n",
    "            sg.popup('Cancel', \"No PDF supplied\")\n"
   ]
  },
  {
   "cell_type": "code",
   "execution_count": null,
   "metadata": {},
   "outputs": [],
   "source": [
    "if __name__ == \"__main__\":\n",
    "    main()"
   ]
  },
  {
   "cell_type": "code",
   "execution_count": null,
   "metadata": {},
   "outputs": [],
   "source": []
  }
 ],
 "metadata": {
  "kernelspec": {
   "display_name": "pyPDF_split-aG0Oa909",
   "language": "python",
   "name": "pypdf_split-ag0oa909"
  },
  "language_info": {
   "codemirror_mode": {
    "name": "ipython",
    "version": 3
   },
   "file_extension": ".py",
   "mimetype": "text/x-python",
   "name": "python",
   "nbconvert_exporter": "python",
   "pygments_lexer": "ipython3",
   "version": "3.10.4"
  }
 },
 "nbformat": 4,
 "nbformat_minor": 4
}
