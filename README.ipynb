{
 "cells": [
  {
   "cell_type": "markdown",
   "metadata": {},
   "source": [
    "# pyPDF_split\n",
    "Split PDFs with multiple student records into individual PDFs.\n",
    "\n",
    "pyPDF_split searches a PDF for the string `StudentID:NNNNNNN` and splits the PDF into individual PDFs in a sub-folder with the StudentID embedded in the new file name.\n",
    "\n",
    "If the pyPDF program is unavialble or does not work, see these [backup instructions](https://github.com/txoof/pyPDF_split/blob/master/Backup_Plan.md#backup-plan-for-pypdfsplit)\n",
    "\n",
    "\n",
    "pyPDF_split can handle student IDs in the following formats:\n",
    "\n",
    "* `StudentID:123456`; `StudentId:123456`; `STUDENTID:123456`; `studentid:123456` \n",
    "    - upper/lower case is ignored in all cases\n",
    "* `Student ID:123456`; `Student ID: 123456`\n",
    "\n",
    "pyPDF_split pairs nicely with the [insertFiles](https://github.com/txoof/insertFiles) and [create_folders](https://github.com/txoof/portfolioCreator) scripts.\n",
    "\n",
    "Contact Information:\n",
    "aaron.ciuffo@gmail.com\n",
    "\n",
    "\n",
    "## Quick Start\n",
    "**NOTE:** If this is the first time you've run this program, please see the [full instructions](#FullInstructions) below.\n",
    "\n",
    "#### [Download link](https://github.com/txoof/pyPDF_split/blob/master/pypdfsplit.pkg)\n",
    "\n",
    "1. Launch the `py_pdfsplit` application from your `Applications` folder by double clicking on it.\n",
    "2. When prompted, locate a PDF that needs to be split by clicking on the `Browse` button -- this will launch a Finder window allowing you find and choose a single PDF file\n",
    "    ![GUI Browse Image](./docs/gui_browse.png)\n",
    "3. Click `Ok` when ready\n",
    "4. pyPDF_split will split the PDF into a sub-folder within the same folder as the original pdf:\n",
    "    ![Output folder with split pdfs](./docs/output_split.png)\n",
    "5. Split another PDF by clicking `Browse` or `Cancel` to quit\n",
    "\n",
    "<a name='FullInstructions'></a>\n",
    "## Full Instructions\n",
    "1. Download the latest version of pyPDF_split [here](https://github.com/txoof/pyPDF_split/blob/master/pypdfsplit.pkg)\n",
    "2. Locate the downloaded file in the Downloads folder and double click on the `.pkg` file\n",
    "   * You will likely need to enter and administrator password\n",
    "3. The program will be installed in the `/Applications` folder\n",
    "2. When prompted, locate a PDF that needs to be split by clicking on the `Browse` button -- this will launch a Finder window allowing you find and choose a single PDF file\n",
    "    ![GUI Browse Image](./docs/gui_browse.png)\n",
    "3. Click `Ok` when ready\n",
    "4. pyPDF_split will split the PDF into a sub-folder within the same folder as the original pdf:\n",
    "    ![Output folder with split pdfs](./docs/output_split.png)\n",
    "5. Split another PDF by clicking `Browse` or `Cancel` to quit\n",
    "\n",
    "## Building pyPDF_Split\n",
    "Build this script in a pyenv/pipenv with TK built in.\n",
    "1. See [this Gist](https://gist.github.com/txoof/675e72d43f1bfbade04fdcec99ff4085) for complete instructions for setting up a working pyenv with TK, pipenv and Jupyter\n",
    "2. Set up a Python 3+ jupyter kernel for further editing from within this repo directory:\n",
    "```\n",
    "$ pipenv --3 install ipykernel\n",
    "$ projectName=$(basename `pipenv --venv`)\n",
    "$ pipenv run python -m ipykernel install --user --name=\"${projectName}\"\n",
    "```\n",
    "3. Make any edits needed and then rebuild the program with:\n",
    "```\n",
    "$ ./build.sh\n",
    "```\n",
    "\n",
    "\n",
    "## Thanks\n",
    "* picobas - move to pdfplumber -- appears to be more reliable"
   ]
  },
  {
   "cell_type": "code",
   "execution_count": null,
   "metadata": {},
   "outputs": [],
   "source": []
  },
  {
   "cell_type": "code",
   "execution_count": 1,
   "metadata": {},
   "outputs": [
    {
     "name": "stdout",
     "output_type": "stream",
     "text": [
      "[NbConvertApp] Converting notebook README.ipynb to markdown\n",
      "[NbConvertApp] Writing 3347 bytes to README.md\n"
     ]
    }
   ],
   "source": [
    "!jupyter-nbconvert --to markdown README.ipynb"
   ]
  },
  {
   "cell_type": "code",
   "execution_count": null,
   "metadata": {},
   "outputs": [],
   "source": []
  }
 ],
 "metadata": {
  "kernelspec": {
   "display_name": "Python 3",
   "language": "python",
   "name": "python3"
  },
  "language_info": {
   "codemirror_mode": {
    "name": "ipython",
    "version": 3
   },
   "file_extension": ".py",
   "mimetype": "text/x-python",
   "name": "python",
   "nbconvert_exporter": "python",
   "pygments_lexer": "ipython3",
   "version": "3.9.5"
  }
 },
 "nbformat": 4,
 "nbformat_minor": 4
}
